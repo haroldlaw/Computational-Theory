{
 "cells": [
  {
   "cell_type": "markdown",
   "id": "9868c498",
   "metadata": {},
   "source": [
    "# Computational Theory Assessment"
   ]
  },
  {
   "cell_type": "markdown",
   "id": "7fa7fbef",
   "metadata": {},
   "source": [
    "## Problem 1"
   ]
  },
  {
   "cell_type": "code",
   "execution_count": 3,
   "id": "fe56616a",
   "metadata": {},
   "outputs": [],
   "source": [
    "import numpy as np\n",
    "\n",
    "def parity(x, y, z):\n",
    "    \"\"\"\n",
    "    Parity function: x ⊕ y ⊕ z\n",
    "    \n",
    "    Args:\n",
    "        x, y, z: 32-bit integers\n",
    "        \n",
    "    Returns:\n",
    "        32-bit integer result of XOR operation\n",
    "    \"\"\"\n",
    "    x, y, z = np.uint32(x), np.uint32(y), np.uint32(z)\n",
    "    return np.uint32(x ^ y ^ z)"
   ]
  },
  {
   "cell_type": "code",
   "execution_count": null,
   "id": "ae01a34d",
   "metadata": {},
   "outputs": [],
   "source": [
    "def ch(x, y, z):\n",
    "    \"\"\"\n",
    "    Choice function: (x ∧ y) ⊕ (¬x ∧ z)\n",
    "    \n",
    "    Args:\n",
    "        x, y, z: 32-bit integers\n",
    "        \n",
    "    Returns:\n",
    "        32-bit integer result of choice operation\n",
    "    \"\"\"\n",
    "    # Convert inputs to 32-bit unsigned integers\n",
    "    x, y, z = np.uint32(x), np.uint32(y), np.uint32(z)\n",
    "    \n",
    "    # For each bit: if x bit is 1, choose y bit; if x bit is 0, choose z bit\n",
    "    return np.uint32((x & y) ^ (~x & z))"
   ]
  },
  {
   "cell_type": "markdown",
   "id": "5256ef41",
   "metadata": {},
   "source": [
    "### Choice Function Explanation\n",
    "\n",
    "The **Choice (Ch)** function acts as a bitwise multiplexer. It examines each bit position in `x`:\n",
    "- If the bit in `x` is 1, it selects the corresponding bit from `y`\n",
    "- If the bit in `x` is 0, it selects the corresponding bit from `z`\n",
    "\n",
    "This function is crucial in SHA-256's compression function, providing conditional bit selection based on the first input.\n",
    "\n",
    "**Mathematical representation:** `Ch(x,y,z) = (x ∧ y) ⊕ (¬x ∧ z)`"
   ]
  },
  {
   "cell_type": "code",
   "execution_count": 8,
   "id": "0f1ec8d2",
   "metadata": {},
   "outputs": [],
   "source": [
    "def maj(x, y, z):\n",
    "    \"\"\"\n",
    "    Majority function: (x ∧ y) ⊕ (x ∧ z) ⊕ (y ∧ z)\n",
    "    \n",
    "    For each bit position, returns the majority bit (the bit that appears most frequently).\n",
    "    \n",
    "    Args:\n",
    "        x, y, z: 32-bit integers\n",
    "        \n",
    "    Returns:\n",
    "        32-bit integer result of majority operation\n",
    "    \"\"\"\n",
    "\n",
    "    # Convert inputs to 32-bit unsigned integers\n",
    "    x, y, z = np.uint32(x), np.uint32(y), np.uint32(z)\n",
    "\n",
    "    # Return the majority bit for each position\n",
    "    # If at least 2 of 3 bits are 1, result bit is 1\n",
    "    return np.uint32((x & y) ^ (x & z) ^ (y & z))"
   ]
  },
  {
   "cell_type": "markdown",
   "id": "7316d05d",
   "metadata": {},
   "source": [
    "### Majority Function Explanation\n",
    "\n",
    "The **Majority (Maj)** function implements democratic bit selection. For each bit position, it returns 1 if at least two of the three input bits are 1, otherwise it returns 0.\n",
    "\n",
    "This function provides resistance against certain cryptographic attacks by ensuring that no single input can completely control the output.\n",
    "\n",
    "**Mathematical representation:** `Maj(x,y,z) = (x ∧ y) ⊕ (x ∧ z) ⊕ (y ∧ z)`"
   ]
  },
  {
   "cell_type": "code",
   "execution_count": 10,
   "id": "d0ee91cc",
   "metadata": {},
   "outputs": [],
   "source": [
    "def rotr(value, positions):\n",
    "    \"\"\"\n",
    "    Right rotate operation for 32-bit integers\n",
    "    \n",
    "    Args:\n",
    "        value: 32-bit integer to rotate\n",
    "        positions: number of positions to rotate right\n",
    "        \n",
    "    Returns:\n",
    "        32-bit integer result of right rotation\n",
    "    \"\"\"\n",
    "    # Ensure 32-bit unsigned integer\n",
    "    value = np.uint32(value)\n",
    "    positions = positions % 32  # Handle positions > 32\n",
    "    \n",
    "    # Right rotation: move bits right, wrap around to left\n",
    "    return np.uint32((value >> positions) | (value << (32 - positions)))"
   ]
  },
  {
   "cell_type": "code",
   "execution_count": 11,
   "id": "cd7b3922",
   "metadata": {},
   "outputs": [],
   "source": [
    "def shr(value, positions):\n",
    "    \"\"\"\n",
    "    Right shift operation for 32-bit integers\n",
    "    \n",
    "    Args:\n",
    "        value: 32-bit integer to shift\n",
    "        positions: number of positions to shift right\n",
    "        \n",
    "    Returns:\n",
    "        32-bit integer result of right shift\n",
    "    \"\"\"\n",
    "    # Ensure 32-bit unsigned integer and perform logical right shift\n",
    "    value = np.uint32(value)\n",
    "    return np.uint32(value >> positions)"
   ]
  },
  {
   "cell_type": "markdown",
   "id": "e0f477c4",
   "metadata": {},
   "source": [
    "### Helper Functions Explanation: Rotation and Shifting\n",
    "\n",
    "These helper functions implement fundamental bit manipulation operations:\n",
    "\n",
    "- **ROTR (Right Rotate):** Moves bits to the right, with bits that fall off the right end wrapping around to the left end\n",
    "- **SHR (Right Shift):** Moves bits to the right, filling the left end with zeros\n",
    "\n",
    "These operations are building blocks for the sigma functions and provide the bit diffusion necessary for cryptographic security."
   ]
  },
  {
   "cell_type": "code",
   "execution_count": 12,
   "id": "f1ae4b51",
   "metadata": {},
   "outputs": [],
   "source": [
    "def sigma0(x):\n",
    "    \"\"\"\n",
    "    σ₀²⁵⁶(x) = ROTR²(x) ⊕ ROTR¹³(x) ⊕ SHR¹⁰(x)\n",
    "    \n",
    "    Lowercase sigma function used in SHA-256 message schedule.\n",
    "    \n",
    "    Args:\n",
    "        x: 32-bit integer\n",
    "        \n",
    "    Returns:\n",
    "        32-bit integer result of σ₀ operation\n",
    "    \"\"\"\n",
    "    # Convert to 32-bit unsigned integer\n",
    "    x = np.uint32(x)\n",
    "    \n",
    "    # Apply rotations and shift as specified in SHA-256 standard\n",
    "    rotr_7 = rotr(x, 7)    # Right rotate by 7 positions\n",
    "    rotr_18 = rotr(x, 18)  # Right rotate by 18 positions\n",
    "    shr_3 = shr(x, 3)      # Right shift by 3 positions\n",
    "    \n",
    "    # XOR all three results together\n",
    "    return np.uint32(rotr_7 ^ rotr_18 ^ shr_3)"
   ]
  },
  {
   "cell_type": "code",
   "execution_count": 13,
   "id": "119ebae7",
   "metadata": {},
   "outputs": [],
   "source": [
    "def sigma1(x):\n",
    "    \"\"\"\n",
    "    σ₁²⁵⁶(x) = ROTR¹⁷(x) ⊕ ROTR¹⁹(x) ⊕ SHR¹⁰(x)\n",
    "    \n",
    "    Lowercase sigma function used in SHA-256 message schedule.\n",
    "    \n",
    "    Args:\n",
    "        x: 32-bit integer\n",
    "        \n",
    "    Returns:\n",
    "        32-bit integer result of σ₁ operation\n",
    "    \"\"\"\n",
    "    # Convert to 32-bit unsigned integer\n",
    "    x = np.uint32(x)\n",
    "    \n",
    "    # Apply rotations and shift as specified in SHA-256 standard\n",
    "    rotr_17 = rotr(x, 17)  # Right rotate by 17 positions\n",
    "    rotr_19 = rotr(x, 19)  # Right rotate by 19 positions\n",
    "    shr_10 = shr(x, 10)    # Right shift by 10 positions\n",
    "    \n",
    "    # XOR all three results together\n",
    "    return np.uint32(rotr_17 ^ rotr_19 ^ shr_10)"
   ]
  },
  {
   "cell_type": "markdown",
   "id": "f878f8a3",
   "metadata": {},
   "source": [
    "### Message Schedule Functions (σ₀ and σ₁)\n",
    "\n",
    "The lowercase sigma functions are used in SHA-256's **message schedule** to expand the 16-word message block into 64 words:\n",
    "\n",
    "- **σ₀(x):** Combines right rotations by 7 and 18 positions with a right shift by 3 positions\n",
    "- **σ₁(x):** Combines right rotations by 17 and 19 positions with a right shift by 10 positions\n",
    "\n",
    "These functions ensure that each bit of the input influences multiple bits of the output, providing excellent diffusion properties essential for cryptographic security."
   ]
  },
  {
   "cell_type": "code",
   "execution_count": 14,
   "id": "093811c0",
   "metadata": {},
   "outputs": [],
   "source": [
    "def Sigma0(x):\n",
    "    \"\"\"\n",
    "    Σ₀²⁵⁶(x) = ROTR²(x) ⊕ ROTR¹³(x) ⊕ ROTR²²(x)\n",
    "    \n",
    "    Uppercase Sigma function used in SHA-256 compression function.\n",
    "    \n",
    "    Args:\n",
    "        x: 32-bit integer\n",
    "        \n",
    "    Returns:\n",
    "        32-bit integer result of Σ₀ operation\n",
    "    \"\"\"\n",
    "    # Convert to 32-bit unsigned integer\n",
    "    x = np.uint32(x)\n",
    "    \n",
    "    # Apply rotations as specified in SHA-256 standard\n",
    "    rotr_2 = rotr(x, 2)    # Right rotate by 2 positions\n",
    "    rotr_13 = rotr(x, 13)  # Right rotate by 13 positions\n",
    "    rotr_22 = rotr(x, 22)  # Right rotate by 22 positions\n",
    "    \n",
    "    # XOR all three results together\n",
    "    return np.uint32(rotr_2 ^ rotr_13 ^ rotr_22)\n"
   ]
  },
  {
   "cell_type": "code",
   "execution_count": 15,
   "id": "b23e54af",
   "metadata": {},
   "outputs": [],
   "source": [
    "def Sigma1(x):\n",
    "    \"\"\"\n",
    "    Σ₁²⁵⁶(x) = ROTR⁶(x) ⊕ ROTR¹¹(x) ⊕ ROTR²⁵(x)\n",
    "    \n",
    "    Uppercase Sigma function used in SHA-256 compression function.\n",
    "    \n",
    "    Args:\n",
    "        x: 32-bit integer\n",
    "        \n",
    "    Returns:\n",
    "        32-bit integer result of Σ₁ operation\n",
    "    \"\"\"\n",
    "    # Convert to 32-bit unsigned integer\n",
    "    x = np.uint32(x)\n",
    "    \n",
    "    # Apply rotations as specified in SHA-256 standard\n",
    "    rotr_6 = rotr(x, 6)    # Right rotate by 6 positions\n",
    "    rotr_11 = rotr(x, 11)  # Right rotate by 11 positions\n",
    "    rotr_25 = rotr(x, 25)  # Right rotate by 25 positions\n",
    "    \n",
    "    # XOR all three results together\n",
    "    return np.uint32(rotr_6 ^ rotr_11 ^ rotr_25)\n"
   ]
  },
  {
   "cell_type": "markdown",
   "id": "d1b59b31",
   "metadata": {},
   "source": [
    "### Compression Functions (Σ₀ and Σ₁)\n",
    "\n",
    "The uppercase Sigma functions are used in SHA-256's **compression function** during the main hashing rounds:\n",
    "\n",
    "- **Σ₀(x):** Combines right rotations by 2, 13, and 22 positions\n",
    "- **Σ₁(x):** Combines right rotations by 6, 11, and 25 positions\n",
    "\n",
    "Unlike the message schedule functions, these use only rotations (no shifts), ensuring that no information is lost. They provide non-linear transformations that make the hash function resistant to various cryptographic attacks."
   ]
  },
  {
   "cell_type": "code",
   "execution_count": 16,
   "id": "e5702050",
   "metadata": {},
   "outputs": [
    {
     "name": "stdout",
     "output_type": "stream",
     "text": [
      "SHA-256 Function Implementation Tests\n",
      "========================================\n",
      "Test inputs:\n",
      "  x = 0x12345678\n",
      "  y = 0x9ABCDEF0\n",
      "  z = 0x87654321\n",
      "\n",
      "Three-input functions:\n",
      "  Parity(x,y,z) = 0x0FEDCBA9\n",
      "  Ch(x,y,z)     = 0x97755771\n",
      "  Maj(x,y,z)    = 0x92345670\n",
      "\n",
      "Message schedule functions:\n",
      "  σ₀(x) = 0xE7FCE6EE\n",
      "  σ₁(x) = 0xA1F78649\n",
      "\n",
      "Compression functions:\n",
      "  Σ₀(x) = 0x66146474\n",
      "  Σ₁(x) = 0x3561ABDA\n"
     ]
    }
   ],
   "source": [
    "# Test all implemented functions with appropriate examples\n",
    "print(\"SHA-256 Function Implementation Tests\")\n",
    "print(\"=\" * 40)\n",
    "\n",
    "# Define test values\n",
    "test_x = 0x12345678\n",
    "test_y = 0x9ABCDEF0\n",
    "test_z = 0x87654321\n",
    "\n",
    "print(f\"Test inputs:\")\n",
    "print(f\"  x = 0x{test_x:08X}\")\n",
    "print(f\"  y = 0x{test_y:08X}\")\n",
    "print(f\"  z = 0x{test_z:08X}\")\n",
    "print()\n",
    "\n",
    "# Test three-input functions\n",
    "print(\"Three-input functions:\")\n",
    "print(f\"  Parity(x,y,z) = 0x{parity(test_x, test_y, test_z):08X}\")\n",
    "print(f\"  Ch(x,y,z)     = 0x{ch(test_x, test_y, test_z):08X}\")\n",
    "print(f\"  Maj(x,y,z)    = 0x{maj(test_x, test_y, test_z):08X}\")\n",
    "print()\n",
    "\n",
    "# Test single-input sigma functions\n",
    "print(\"Message schedule functions:\")\n",
    "print(f\"  σ₀(x) = 0x{sigma0(test_x):08X}\")\n",
    "print(f\"  σ₁(x) = 0x{sigma1(test_x):08X}\")\n",
    "print()\n",
    "\n",
    "# Test single-input Sigma functions\n",
    "print(\"Compression functions:\")\n",
    "print(f\"  Σ₀(x) = 0x{Sigma0(test_x):08X}\")\n",
    "print(f\"  Σ₁(x) = 0x{Sigma1(test_x):08X}\")"
   ]
  },
  {
   "cell_type": "markdown",
   "id": "76f1e927",
   "metadata": {},
   "source": [
    "## Problem 2"
   ]
  },
  {
   "cell_type": "code",
   "execution_count": 1,
   "id": "5fc9e1ea",
   "metadata": {},
   "outputs": [],
   "source": [
    "import numpy as np\n",
    "import math\n",
    "\n",
    "def primes(n):\n",
    "    \"\"\"\n",
    "    Generate the first n prime numbers using the Sieve of Eratosthenes algorithm.\n",
    "    \n",
    "    Args:\n",
    "        n: Number of prime numbers to generate\n",
    "        \n",
    "    Returns:\n",
    "        List of the first n prime numbers\n",
    "    \"\"\"\n",
    "    if n <= 0:\n",
    "        return []\n",
    "    \n",
    "    # Estimate upper bound for the nth prime using prime number theorem\n",
    "    # For n >= 6, the nth prime is less than n * ln(n * ln(n))\n",
    "    if n < 6:\n",
    "        upper_bound = 15  # Safe bound for first few primes\n",
    "    else:\n",
    "        upper_bound = int(n * math.log(n * math.log(n))) + 100\n",
    "    \n",
    "    # Initialize sieve array - True means potentially prime\n",
    "    sieve = [True] * (upper_bound + 1)\n",
    "    sieve[0] = sieve[1] = False  # 0 and 1 are not prime\n",
    "    \n",
    "    # Apply Sieve of Eratosthenes\n",
    "    for i in range(2, int(math.sqrt(upper_bound)) + 1):\n",
    "        if sieve[i]:  # i is prime\n",
    "            # Mark all multiples of i as composite\n",
    "            for j in range(i * i, upper_bound + 1, i):\n",
    "                sieve[j] = False\n",
    "    \n",
    "    # Collect first n primes\n",
    "    prime_list = []\n",
    "    for i in range(2, upper_bound + 1):\n",
    "        if sieve[i]:\n",
    "            prime_list.append(i)\n",
    "            if len(prime_list) == n:\n",
    "                break\n",
    "    \n",
    "    return prime_list"
   ]
  },
  {
   "cell_type": "code",
   "execution_count": null,
   "id": "8d244f50",
   "metadata": {},
   "outputs": [],
   "source": []
  },
  {
   "cell_type": "markdown",
   "id": "af570386",
   "metadata": {},
   "source": [
    "## Problem 3"
   ]
  },
  {
   "cell_type": "code",
   "execution_count": null,
   "id": "0a4f6a6e",
   "metadata": {},
   "outputs": [],
   "source": []
  },
  {
   "cell_type": "markdown",
   "id": "5b96794a",
   "metadata": {},
   "source": [
    "## Problem 4"
   ]
  },
  {
   "cell_type": "code",
   "execution_count": null,
   "id": "da3bf0e3",
   "metadata": {},
   "outputs": [],
   "source": []
  },
  {
   "cell_type": "markdown",
   "id": "25cdfd16",
   "metadata": {},
   "source": [
    "## Problem 5"
   ]
  },
  {
   "cell_type": "code",
   "execution_count": null,
   "id": "754f3cc8",
   "metadata": {},
   "outputs": [],
   "source": []
  }
 ],
 "metadata": {
  "kernelspec": {
   "display_name": "Python 3",
   "language": "python",
   "name": "python3"
  },
  "language_info": {
   "codemirror_mode": {
    "name": "ipython",
    "version": 3
   },
   "file_extension": ".py",
   "mimetype": "text/x-python",
   "name": "python",
   "nbconvert_exporter": "python",
   "pygments_lexer": "ipython3",
   "version": "3.12.1"
  }
 },
 "nbformat": 4,
 "nbformat_minor": 5
}
