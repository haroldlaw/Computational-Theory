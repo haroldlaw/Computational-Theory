{
 "cells": [
  {
   "cell_type": "markdown",
   "id": "9868c498",
   "metadata": {},
   "source": [
    "# Computational Theory Assessment"
   ]
  },
  {
   "cell_type": "markdown",
   "id": "7fa7fbef",
   "metadata": {},
   "source": [
    "## Problem 1"
   ]
  },
  {
   "cell_type": "code",
   "execution_count": 3,
   "id": "fe56616a",
   "metadata": {},
   "outputs": [],
   "source": [
    "import numpy as np\n",
    "\n",
    "def parity(x, y, z):\n",
    "    \"\"\"\n",
    "    Parity function: x ⊕ y ⊕ z\n",
    "    \n",
    "    Args:\n",
    "        x, y, z: 32-bit integers\n",
    "        \n",
    "    Returns:\n",
    "        32-bit integer result of XOR operation\n",
    "    \"\"\"\n",
    "    x, y, z = np.uint32(x), np.uint32(y), np.uint32(z)\n",
    "    return np.uint32(x ^ y ^ z)"
   ]
  },
  {
   "cell_type": "code",
   "execution_count": 4,
   "id": "ae01a34d",
   "metadata": {},
   "outputs": [],
   "source": [
    "def ch(x, y, z):\n",
    "    \"\"\"\n",
    "    Choice function: (x ∧ y) ⊕ (¬x ∧ z)\n",
    "    \n",
    "    For each bit position, if x is 1, choose bit from y; if x is 0, choose bit from z.\n",
    "    \n",
    "    Args:\n",
    "        x, y, z: 32-bit integers\n",
    "        \n",
    "    Returns:\n",
    "        32-bit integer result of choice operation\n",
    "    \"\"\"\n",
    "    x, y, z = np.uint32(x), np.uint32(y), np.uint32(z)\n",
    "    return np.uint32((x & y) ^ (~x & z))"
   ]
  },
  {
   "cell_type": "code",
   "execution_count": null,
   "id": "0f1ec8d2",
   "metadata": {},
   "outputs": [],
   "source": [
    "def maj(x, y, z):\n",
    "    \"\"\"\n",
    "    Majority function: (x ∧ y) ⊕ (x ∧ z) ⊕ (y ∧ z)\n",
    "    \n",
    "    For each bit position, returns the majority bit (the bit that appears most frequently).\n",
    "    \n",
    "    Args:\n",
    "        x, y, z: 32-bit integers\n",
    "        \n",
    "    Returns:\n",
    "        32-bit integer result of majority operation\n",
    "    \"\"\"\n",
    "    x, y, z = np.uint32(x), np.uint32(y), np.uint32(z)\n",
    "    return np.uint32((x & y) ^ (x & z) ^ (y & z))"
   ]
  },
  {
   "cell_type": "code",
   "execution_count": null,
   "id": "d0ee91cc",
   "metadata": {},
   "outputs": [],
   "source": [
    "def rotr(x, n):\n",
    "    \"\"\"\n",
    "    Right rotate operation for 32-bit integers\n",
    "    \n",
    "    Args:\n",
    "        x: 32-bit integer to rotate\n",
    "        n: number of positions to rotate right\n",
    "        \n",
    "    Returns:\n",
    "        32-bit integer result of right rotation\n",
    "    \"\"\"\n",
    "    x = np.uint32(x)\n",
    "    return np.uint32((x >> n) | (x << (32 - n)))"
   ]
  },
  {
   "cell_type": "code",
   "execution_count": null,
   "id": "cd7b3922",
   "metadata": {},
   "outputs": [],
   "source": [
    "def shr(x, n):\n",
    "    \"\"\"\n",
    "    Right shift operation for 32-bit integers\n",
    "    \n",
    "    Args:\n",
    "        x: 32-bit integer to shift\n",
    "        n: number of positions to shift right\n",
    "        \n",
    "    Returns:\n",
    "        32-bit integer result of right shift\n",
    "    \"\"\"\n",
    "    x = np.uint32(x)\n",
    "    return np.uint32(x >> n)"
   ]
  },
  {
   "cell_type": "code",
   "execution_count": null,
   "id": "f1ae4b51",
   "metadata": {},
   "outputs": [],
   "source": [
    "def sigma0(x):\n",
    "    \"\"\"\n",
    "    σ₀²⁵⁶(x) = ROTR²(x) ⊕ ROTR¹³(x) ⊕ SHR¹⁰(x)\n",
    "    \n",
    "    Lower case sigma function used in SHA-256 message schedule.\n",
    "    \n",
    "    Args:\n",
    "        x: 32-bit integer\n",
    "        \n",
    "    Returns:\n",
    "        32-bit integer result of σ₀ operation\n",
    "    \"\"\"\n",
    "    x = np.uint32(x)\n",
    "    return np.uint32(rotr(x, 7) ^ rotr(x, 18) ^ shr(x, 3))"
   ]
  },
  {
   "cell_type": "code",
   "execution_count": null,
   "id": "119ebae7",
   "metadata": {},
   "outputs": [],
   "source": [
    "def sigma1(x):\n",
    "    \"\"\"\n",
    "    σ₁²⁵⁶(x) = ROTR¹⁷(x) ⊕ ROTR¹⁹(x) ⊕ SHR¹⁰(x)\n",
    "    \n",
    "    Lower case sigma function used in SHA-256 message schedule.\n",
    "    \n",
    "    Args:\n",
    "        x: 32-bit integer\n",
    "        \n",
    "    Returns:\n",
    "        32-bit integer result of σ₁ operation\n",
    "    \"\"\"\n",
    "    x = np.uint32(x)\n",
    "    return np.uint32(rotr(x, 17) ^ rotr(x, 19) ^ shr(x, 10))"
   ]
  },
  {
   "cell_type": "code",
   "execution_count": null,
   "id": "093811c0",
   "metadata": {},
   "outputs": [],
   "source": [
    "def Sigma0(x):\n",
    "    \"\"\"\n",
    "    Σ₀²⁵⁶(x) = ROTR²(x) ⊕ ROTR¹³(x) ⊕ ROTR²²(x)\n",
    "    \n",
    "    Upper case Sigma function used in SHA-256 compression function.\n",
    "    \n",
    "    Args:\n",
    "        x: 32-bit integer\n",
    "        \n",
    "    Returns:\n",
    "        32-bit integer result of Σ₀ operation\n",
    "    \"\"\"\n",
    "    x = np.uint32(x)\n",
    "    return np.uint32(rotr(x, 2) ^ rotr(x, 13) ^ rotr(x, 22))\n"
   ]
  },
  {
   "cell_type": "code",
   "execution_count": null,
   "id": "b23e54af",
   "metadata": {},
   "outputs": [],
   "source": [
    "def Sigma1(x):\n",
    "    \"\"\"\n",
    "    Σ₁²⁵⁶(x) = ROTR⁶(x) ⊕ ROTR¹¹(x) ⊕ ROTR²⁵(x)\n",
    "    \n",
    "    Upper case Sigma function used in SHA-256 compression function.\n",
    "    \n",
    "    Args:\n",
    "        x: 32-bit integer\n",
    "        \n",
    "    Returns:\n",
    "        32-bit integer result of Σ₁ operation\n",
    "    \"\"\"\n",
    "    x = np.uint32(x)\n",
    "    return np.uint32(rotr(x, 6) ^ rotr(x, 11) ^ rotr(x, 25))\n"
   ]
  },
  {
   "cell_type": "markdown",
   "id": "76f1e927",
   "metadata": {},
   "source": [
    "## Problem 2"
   ]
  },
  {
   "cell_type": "code",
   "execution_count": null,
   "id": "5fc9e1ea",
   "metadata": {},
   "outputs": [],
   "source": []
  },
  {
   "cell_type": "markdown",
   "id": "af570386",
   "metadata": {},
   "source": [
    "## Problem 3"
   ]
  },
  {
   "cell_type": "code",
   "execution_count": null,
   "id": "0a4f6a6e",
   "metadata": {},
   "outputs": [],
   "source": []
  },
  {
   "cell_type": "markdown",
   "id": "5b96794a",
   "metadata": {},
   "source": [
    "## Problem 4"
   ]
  },
  {
   "cell_type": "code",
   "execution_count": null,
   "id": "da3bf0e3",
   "metadata": {},
   "outputs": [],
   "source": []
  },
  {
   "cell_type": "markdown",
   "id": "25cdfd16",
   "metadata": {},
   "source": [
    "## Problem 5"
   ]
  },
  {
   "cell_type": "code",
   "execution_count": null,
   "id": "754f3cc8",
   "metadata": {},
   "outputs": [],
   "source": []
  }
 ],
 "metadata": {
  "kernelspec": {
   "display_name": "Python 3",
   "language": "python",
   "name": "python3"
  },
  "language_info": {
   "codemirror_mode": {
    "name": "ipython",
    "version": 3
   },
   "file_extension": ".py",
   "mimetype": "text/x-python",
   "name": "python",
   "nbconvert_exporter": "python",
   "pygments_lexer": "ipython3",
   "version": "3.12.1"
  }
 },
 "nbformat": 4,
 "nbformat_minor": 5
}
