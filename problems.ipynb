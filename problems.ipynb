{
 "cells": [
  {
   "cell_type": "markdown",
   "id": "9868c498",
   "metadata": {},
   "source": [
    "# Computational Theory Assessment"
   ]
  },
  {
   "cell_type": "markdown",
   "id": "7fa7fbef",
   "metadata": {},
   "source": [
    "## Problem 1"
   ]
  },
  {
   "cell_type": "code",
   "execution_count": 3,
   "id": "fe56616a",
   "metadata": {},
   "outputs": [],
   "source": [
    "import numpy as np\n",
    "\n",
    "def parity(x, y, z):\n",
    "    \"\"\"\n",
    "    Parity function: x ⊕ y ⊕ z\n",
    "    \n",
    "    Args:\n",
    "        x, y, z: 32-bit integers\n",
    "        \n",
    "    Returns:\n",
    "        32-bit integer result of XOR operation\n",
    "    \"\"\"\n",
    "    x, y, z = np.uint32(x), np.uint32(y), np.uint32(z)\n",
    "    return np.uint32(x ^ y ^ z)"
   ]
  },
  {
   "cell_type": "code",
   "execution_count": 4,
   "id": "ae01a34d",
   "metadata": {},
   "outputs": [],
   "source": [
    "def ch(x, y, z):\n",
    "    \"\"\"\n",
    "    Choice function: (x ∧ y) ⊕ (¬x ∧ z)\n",
    "    \n",
    "    For each bit position, if x is 1, choose bit from y; if x is 0, choose bit from z.\n",
    "    \n",
    "    Args:\n",
    "        x, y, z: 32-bit integers\n",
    "        \n",
    "    Returns:\n",
    "        32-bit integer result of choice operation\n",
    "    \"\"\"\n",
    "    x, y, z = np.uint32(x), np.uint32(y), np.uint32(z)\n",
    "    return np.uint32((x & y) ^ (~x & z))"
   ]
  },
  {
   "cell_type": "code",
   "execution_count": null,
   "id": "0f1ec8d2",
   "metadata": {},
   "outputs": [],
   "source": [
    "def maj(x, y, z):\n",
    "    \"\"\"\n",
    "    Majority function: (x ∧ y) ⊕ (x ∧ z) ⊕ (y ∧ z)\n",
    "    \n",
    "    For each bit position, returns the majority bit (the bit that appears most frequently).\n",
    "    \n",
    "    Args:\n",
    "        x, y, z: 32-bit integers\n",
    "        \n",
    "    Returns:\n",
    "        32-bit integer result of majority operation\n",
    "    \"\"\"\n",
    "    x, y, z = np.uint32(x), np.uint32(y), np.uint32(z)\n",
    "    return np.uint32((x & y) ^ (x & z) ^ (y & z))"
   ]
  },
  {
   "cell_type": "markdown",
   "id": "76f1e927",
   "metadata": {},
   "source": [
    "## Problem 2"
   ]
  },
  {
   "cell_type": "code",
   "execution_count": null,
   "id": "5fc9e1ea",
   "metadata": {},
   "outputs": [],
   "source": []
  },
  {
   "cell_type": "markdown",
   "id": "af570386",
   "metadata": {},
   "source": [
    "## Problem 3"
   ]
  },
  {
   "cell_type": "code",
   "execution_count": null,
   "id": "0a4f6a6e",
   "metadata": {},
   "outputs": [],
   "source": []
  },
  {
   "cell_type": "markdown",
   "id": "5b96794a",
   "metadata": {},
   "source": [
    "## Problem 4"
   ]
  },
  {
   "cell_type": "code",
   "execution_count": null,
   "id": "da3bf0e3",
   "metadata": {},
   "outputs": [],
   "source": []
  },
  {
   "cell_type": "markdown",
   "id": "25cdfd16",
   "metadata": {},
   "source": [
    "## Problem 5"
   ]
  },
  {
   "cell_type": "code",
   "execution_count": null,
   "id": "754f3cc8",
   "metadata": {},
   "outputs": [],
   "source": []
  }
 ],
 "metadata": {
  "kernelspec": {
   "display_name": "Python 3",
   "language": "python",
   "name": "python3"
  },
  "language_info": {
   "codemirror_mode": {
    "name": "ipython",
    "version": 3
   },
   "file_extension": ".py",
   "mimetype": "text/x-python",
   "name": "python",
   "nbconvert_exporter": "python",
   "pygments_lexer": "ipython3",
   "version": "3.12.1"
  }
 },
 "nbformat": 4,
 "nbformat_minor": 5
}
